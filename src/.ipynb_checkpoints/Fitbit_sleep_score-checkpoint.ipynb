{
 "cells": [
  {
   "cell_type": "markdown",
   "metadata": {},
   "source": [
    "# Fitbit sleep score prediction\n",
    "\n",
    "This project is heavily influenced by the work done by JoBe10. Links to code and blog:\n",
    "- https://github.com/JoBe10/Fitbit-Sleep-Score/blob/master/Sleep_Scores/Fitbit_Sleep_Score_Prediction.ipynb\n",
    "- https://towardsdatascience.com/using-machine-learning-to-predict-fitbit-sleep-scores-496a7d9ec48"
   ]
  },
  {
   "cell_type": "code",
   "execution_count": 116,
   "metadata": {},
   "outputs": [],
   "source": [
    "# Load libraries\n",
    "\n",
    "import pandas as  pd\n",
    "import numpy as np\n",
    "import glob\n",
    "import matplotlib.pyplot as plt\n",
    "import seaborn as sns\n",
    "from sklearn.model_selection import train_test_split\n",
    "from sklearn.preprocessing import MinMaxScaler\n",
    "from sklearn.linear_model import Lasso\n",
    "from sklearn.metrics import mean_absolute_error\n",
    "from sklearn.metrics import mean_squared_error\n",
    "from sklearn.metrics import r2_score\n",
    "from sklearn.linear_model import LinearRegression\n",
    "import statsmodels.api as sm\n",
    "from sklearn.ensemble import RandomForestRegressor\n",
    "from xgboost import XGBRegressor\n",
    "from sklearn.model_selection import cross_val_score\n",
    "from sklearn.model_selection import RandomizedSearchCV"
   ]
  },
  {
   "cell_type": "markdown",
   "metadata": {},
   "source": [
    "### Preprocessing\n",
    " - Get the monthly sleep_stats_data and concat into one dataframe "
   ]
  },
  {
   "cell_type": "code",
   "execution_count": 36,
   "metadata": {},
   "outputs": [
    {
     "data": {
      "text/html": [
       "<div>\n",
       "<style scoped>\n",
       "    .dataframe tbody tr th:only-of-type {\n",
       "        vertical-align: middle;\n",
       "    }\n",
       "\n",
       "    .dataframe tbody tr th {\n",
       "        vertical-align: top;\n",
       "    }\n",
       "\n",
       "    .dataframe thead th {\n",
       "        text-align: right;\n",
       "    }\n",
       "</style>\n",
       "<table border=\"1\" class=\"dataframe\">\n",
       "  <thead>\n",
       "    <tr style=\"text-align: right;\">\n",
       "      <th></th>\n",
       "      <th>Start Time</th>\n",
       "      <th>End Time</th>\n",
       "      <th>Minutes Asleep</th>\n",
       "      <th>Minutes Awake</th>\n",
       "      <th>Number of Awakenings</th>\n",
       "      <th>Time in Bed</th>\n",
       "      <th>Minutes REM Sleep</th>\n",
       "      <th>Minutes Light Sleep</th>\n",
       "      <th>Minutes Deep Sleep</th>\n",
       "    </tr>\n",
       "  </thead>\n",
       "  <tbody>\n",
       "    <tr>\n",
       "      <th>0</th>\n",
       "      <td>30/01/2020 22:44</td>\n",
       "      <td>2020-01-31 07:30:00</td>\n",
       "      <td>452</td>\n",
       "      <td>74</td>\n",
       "      <td>41</td>\n",
       "      <td>526</td>\n",
       "      <td>71.0</td>\n",
       "      <td>274.0</td>\n",
       "      <td>107.0</td>\n",
       "    </tr>\n",
       "    <tr>\n",
       "      <th>1</th>\n",
       "      <td>29/01/2020 22:57</td>\n",
       "      <td>2020-01-30 08:39:00</td>\n",
       "      <td>488</td>\n",
       "      <td>93</td>\n",
       "      <td>44</td>\n",
       "      <td>581</td>\n",
       "      <td>53.0</td>\n",
       "      <td>321.0</td>\n",
       "      <td>114.0</td>\n",
       "    </tr>\n",
       "    <tr>\n",
       "      <th>2</th>\n",
       "      <td>28/01/2020 23:42</td>\n",
       "      <td>2020-01-29 07:29:00</td>\n",
       "      <td>378</td>\n",
       "      <td>89</td>\n",
       "      <td>39</td>\n",
       "      <td>467</td>\n",
       "      <td>13.0</td>\n",
       "      <td>284.0</td>\n",
       "      <td>81.0</td>\n",
       "    </tr>\n",
       "    <tr>\n",
       "      <th>3</th>\n",
       "      <td>27/01/2020 23:41</td>\n",
       "      <td>2020-01-28 07:32:00</td>\n",
       "      <td>413</td>\n",
       "      <td>57</td>\n",
       "      <td>38</td>\n",
       "      <td>470</td>\n",
       "      <td>84.0</td>\n",
       "      <td>278.0</td>\n",
       "      <td>51.0</td>\n",
       "    </tr>\n",
       "    <tr>\n",
       "      <th>4</th>\n",
       "      <td>26/01/2020 23:52</td>\n",
       "      <td>2020-01-27 07:39:00</td>\n",
       "      <td>405</td>\n",
       "      <td>62</td>\n",
       "      <td>38</td>\n",
       "      <td>467</td>\n",
       "      <td>96.0</td>\n",
       "      <td>234.0</td>\n",
       "      <td>75.0</td>\n",
       "    </tr>\n",
       "  </tbody>\n",
       "</table>\n",
       "</div>"
      ],
      "text/plain": [
       "         Start Time            End Time  Minutes Asleep  Minutes Awake  \\\n",
       "0  30/01/2020 22:44 2020-01-31 07:30:00             452             74   \n",
       "1  29/01/2020 22:57 2020-01-30 08:39:00             488             93   \n",
       "2  28/01/2020 23:42 2020-01-29 07:29:00             378             89   \n",
       "3  27/01/2020 23:41 2020-01-28 07:32:00             413             57   \n",
       "4  26/01/2020 23:52 2020-01-27 07:39:00             405             62   \n",
       "\n",
       "   Number of Awakenings  Time in Bed  Minutes REM Sleep  Minutes Light Sleep  \\\n",
       "0                    41          526               71.0                274.0   \n",
       "1                    44          581               53.0                321.0   \n",
       "2                    39          467               13.0                284.0   \n",
       "3                    38          470               84.0                278.0   \n",
       "4                    38          467               96.0                234.0   \n",
       "\n",
       "   Minutes Deep Sleep  \n",
       "0               107.0  \n",
       "1               114.0  \n",
       "2                81.0  \n",
       "3                51.0  \n",
       "4                75.0  "
      ]
     },
     "execution_count": 36,
     "metadata": {},
     "output_type": "execute_result"
    }
   ],
   "source": [
    "PATH = '../inputs/'\n",
    "all_files = glob.glob(PATH+'*.csv')\n",
    "\n",
    "li_df = []\n",
    "for file in all_files:\n",
    "    # We only care about the End Time, hence we will only parse that as a time object\n",
    "    df = pd.read_csv(file, parse_dates=['End Time'])\n",
    "    li_df.append(df)\n",
    "\n",
    "\n",
    "sleep_stats_data = pd.concat(li_df, ignore_index=True)\n",
    "sleep_stats_data.head()"
   ]
  },
  {
   "cell_type": "code",
   "execution_count": 37,
   "metadata": {},
   "outputs": [
    {
     "data": {
      "text/html": [
       "<div>\n",
       "<style scoped>\n",
       "    .dataframe tbody tr th:only-of-type {\n",
       "        vertical-align: middle;\n",
       "    }\n",
       "\n",
       "    .dataframe tbody tr th {\n",
       "        vertical-align: top;\n",
       "    }\n",
       "\n",
       "    .dataframe thead th {\n",
       "        text-align: right;\n",
       "    }\n",
       "</style>\n",
       "<table border=\"1\" class=\"dataframe\">\n",
       "  <thead>\n",
       "    <tr style=\"text-align: right;\">\n",
       "      <th></th>\n",
       "      <th>timestamp</th>\n",
       "      <th>overall_score</th>\n",
       "    </tr>\n",
       "  </thead>\n",
       "  <tbody>\n",
       "    <tr>\n",
       "      <th>0</th>\n",
       "      <td>2020-08-22 09:16:30+00:00</td>\n",
       "      <td>82</td>\n",
       "    </tr>\n",
       "    <tr>\n",
       "      <th>1</th>\n",
       "      <td>2020-08-21 07:56:00+00:00</td>\n",
       "      <td>65</td>\n",
       "    </tr>\n",
       "    <tr>\n",
       "      <th>2</th>\n",
       "      <td>2020-08-20 00:44:30+00:00</td>\n",
       "      <td>75</td>\n",
       "    </tr>\n",
       "    <tr>\n",
       "      <th>3</th>\n",
       "      <td>2020-08-19 08:11:30+00:00</td>\n",
       "      <td>79</td>\n",
       "    </tr>\n",
       "    <tr>\n",
       "      <th>4</th>\n",
       "      <td>2020-08-18 09:06:30+00:00</td>\n",
       "      <td>81</td>\n",
       "    </tr>\n",
       "  </tbody>\n",
       "</table>\n",
       "</div>"
      ],
      "text/plain": [
       "                  timestamp  overall_score\n",
       "0 2020-08-22 09:16:30+00:00             82\n",
       "1 2020-08-21 07:56:00+00:00             65\n",
       "2 2020-08-20 00:44:30+00:00             75\n",
       "3 2020-08-19 08:11:30+00:00             79\n",
       "4 2020-08-18 09:06:30+00:00             81"
      ]
     },
     "execution_count": 37,
     "metadata": {},
     "output_type": "execute_result"
    }
   ],
   "source": [
    "# Get the sleep score data\n",
    "sleep_score_data = pd.read_csv('../inputs/DimitrisVardouniotis/sleep-score/sleep_score.csv',\n",
    "                              parse_dates=['timestamp'])[['timestamp','overall_score']]\n",
    "sleep_score_data.head()"
   ]
  },
  {
   "cell_type": "code",
   "execution_count": 38,
   "metadata": {},
   "outputs": [
    {
     "name": "stdout",
     "output_type": "stream",
     "text": [
      "<class 'pandas.core.frame.DataFrame'>\n",
      "RangeIndex: 319 entries, 0 to 318\n",
      "Data columns (total 9 columns):\n",
      " #   Column                Non-Null Count  Dtype         \n",
      "---  ------                --------------  -----         \n",
      " 0   Start Time            319 non-null    object        \n",
      " 1   End Time              319 non-null    datetime64[ns]\n",
      " 2   Minutes Asleep        319 non-null    int64         \n",
      " 3   Minutes Awake         319 non-null    int64         \n",
      " 4   Number of Awakenings  319 non-null    int64         \n",
      " 5   Time in Bed           319 non-null    int64         \n",
      " 6   Minutes REM Sleep     311 non-null    float64       \n",
      " 7   Minutes Light Sleep   311 non-null    float64       \n",
      " 8   Minutes Deep Sleep    311 non-null    float64       \n",
      "dtypes: datetime64[ns](1), float64(3), int64(4), object(1)\n",
      "memory usage: 22.6+ KB\n"
     ]
    }
   ],
   "source": [
    "# Obtain some information about the DataFrame\n",
    "sleep_stats_data.info()"
   ]
  },
  {
   "cell_type": "code",
   "execution_count": 39,
   "metadata": {},
   "outputs": [
    {
     "data": {
      "text/html": [
       "<div>\n",
       "<style scoped>\n",
       "    .dataframe tbody tr th:only-of-type {\n",
       "        vertical-align: middle;\n",
       "    }\n",
       "\n",
       "    .dataframe tbody tr th {\n",
       "        vertical-align: top;\n",
       "    }\n",
       "\n",
       "    .dataframe thead th {\n",
       "        text-align: right;\n",
       "    }\n",
       "</style>\n",
       "<table border=\"1\" class=\"dataframe\">\n",
       "  <thead>\n",
       "    <tr style=\"text-align: right;\">\n",
       "      <th></th>\n",
       "      <th>Start Time</th>\n",
       "      <th>End Time</th>\n",
       "      <th>Minutes Asleep</th>\n",
       "      <th>Minutes Awake</th>\n",
       "      <th>Number of Awakenings</th>\n",
       "      <th>Time in Bed</th>\n",
       "      <th>Minutes REM Sleep</th>\n",
       "      <th>Minutes Light Sleep</th>\n",
       "      <th>Minutes Deep Sleep</th>\n",
       "    </tr>\n",
       "  </thead>\n",
       "  <tbody>\n",
       "    <tr>\n",
       "      <th>75</th>\n",
       "      <td>08/02/2020 17:15</td>\n",
       "      <td>2020-08-02 18:19:00</td>\n",
       "      <td>52</td>\n",
       "      <td>12</td>\n",
       "      <td>0</td>\n",
       "      <td>64</td>\n",
       "      <td>NaN</td>\n",
       "      <td>NaN</td>\n",
       "      <td>NaN</td>\n",
       "    </tr>\n",
       "    <tr>\n",
       "      <th>77</th>\n",
       "      <td>06/02/2020 23:44</td>\n",
       "      <td>2020-07-02 02:05:00</td>\n",
       "      <td>137</td>\n",
       "      <td>4</td>\n",
       "      <td>0</td>\n",
       "      <td>141</td>\n",
       "      <td>NaN</td>\n",
       "      <td>NaN</td>\n",
       "      <td>NaN</td>\n",
       "    </tr>\n",
       "    <tr>\n",
       "      <th>109</th>\n",
       "      <td>05/03/2020 18:58</td>\n",
       "      <td>2020-05-03 20:41:00</td>\n",
       "      <td>102</td>\n",
       "      <td>1</td>\n",
       "      <td>0</td>\n",
       "      <td>103</td>\n",
       "      <td>NaN</td>\n",
       "      <td>NaN</td>\n",
       "      <td>NaN</td>\n",
       "    </tr>\n",
       "    <tr>\n",
       "      <th>148</th>\n",
       "      <td>20/12/2019 03:00</td>\n",
       "      <td>2019-12-20 05:29:00</td>\n",
       "      <td>140</td>\n",
       "      <td>8</td>\n",
       "      <td>0</td>\n",
       "      <td>148</td>\n",
       "      <td>NaN</td>\n",
       "      <td>NaN</td>\n",
       "      <td>NaN</td>\n",
       "    </tr>\n",
       "    <tr>\n",
       "      <th>203</th>\n",
       "      <td>24/04/2020 05:06</td>\n",
       "      <td>2020-04-24 08:05:00</td>\n",
       "      <td>171</td>\n",
       "      <td>4</td>\n",
       "      <td>0</td>\n",
       "      <td>179</td>\n",
       "      <td>NaN</td>\n",
       "      <td>NaN</td>\n",
       "      <td>NaN</td>\n",
       "    </tr>\n",
       "    <tr>\n",
       "      <th>248</th>\n",
       "      <td>09/05/2020 09:21</td>\n",
       "      <td>2020-09-05 10:23:00</td>\n",
       "      <td>54</td>\n",
       "      <td>8</td>\n",
       "      <td>0</td>\n",
       "      <td>62</td>\n",
       "      <td>NaN</td>\n",
       "      <td>NaN</td>\n",
       "      <td>NaN</td>\n",
       "    </tr>\n",
       "    <tr>\n",
       "      <th>269</th>\n",
       "      <td>02/11/2019 23:28</td>\n",
       "      <td>2019-03-11 01:01:00</td>\n",
       "      <td>83</td>\n",
       "      <td>10</td>\n",
       "      <td>0</td>\n",
       "      <td>93</td>\n",
       "      <td>NaN</td>\n",
       "      <td>NaN</td>\n",
       "      <td>NaN</td>\n",
       "    </tr>\n",
       "    <tr>\n",
       "      <th>298</th>\n",
       "      <td>21/09/2019 16:01</td>\n",
       "      <td>2019-09-21 17:07:00</td>\n",
       "      <td>59</td>\n",
       "      <td>1</td>\n",
       "      <td>0</td>\n",
       "      <td>65</td>\n",
       "      <td>NaN</td>\n",
       "      <td>NaN</td>\n",
       "      <td>NaN</td>\n",
       "    </tr>\n",
       "  </tbody>\n",
       "</table>\n",
       "</div>"
      ],
      "text/plain": [
       "           Start Time            End Time  Minutes Asleep  Minutes Awake  \\\n",
       "75   08/02/2020 17:15 2020-08-02 18:19:00              52             12   \n",
       "77   06/02/2020 23:44 2020-07-02 02:05:00             137              4   \n",
       "109  05/03/2020 18:58 2020-05-03 20:41:00             102              1   \n",
       "148  20/12/2019 03:00 2019-12-20 05:29:00             140              8   \n",
       "203  24/04/2020 05:06 2020-04-24 08:05:00             171              4   \n",
       "248  09/05/2020 09:21 2020-09-05 10:23:00              54              8   \n",
       "269  02/11/2019 23:28 2019-03-11 01:01:00              83             10   \n",
       "298  21/09/2019 16:01 2019-09-21 17:07:00              59              1   \n",
       "\n",
       "     Number of Awakenings  Time in Bed  Minutes REM Sleep  \\\n",
       "75                      0           64                NaN   \n",
       "77                      0          141                NaN   \n",
       "109                     0          103                NaN   \n",
       "148                     0          148                NaN   \n",
       "203                     0          179                NaN   \n",
       "248                     0           62                NaN   \n",
       "269                     0           93                NaN   \n",
       "298                     0           65                NaN   \n",
       "\n",
       "     Minutes Light Sleep  Minutes Deep Sleep  \n",
       "75                   NaN                 NaN  \n",
       "77                   NaN                 NaN  \n",
       "109                  NaN                 NaN  \n",
       "148                  NaN                 NaN  \n",
       "203                  NaN                 NaN  \n",
       "248                  NaN                 NaN  \n",
       "269                  NaN                 NaN  \n",
       "298                  NaN                 NaN  "
      ]
     },
     "execution_count": 39,
     "metadata": {},
     "output_type": "execute_result"
    }
   ],
   "source": [
    "# Inspect the rows with missing values\n",
    "sleep_stats_data[sleep_stats_data['Minutes REM Sleep'].isna()]"
   ]
  },
  {
   "cell_type": "markdown",
   "metadata": {},
   "source": [
    "#### Upon inspection it seems that the above cases could belong to one of the following cases:\n",
    "1. Afternoon nap\n",
    "2. Battery died during sleep -> Insufficient data\n",
    "3. Very short night sleeps that are either errors or edge cases that we do not want to look into anyway\n",
    "\n",
    "These should be excluded for the analysis as they are unlikely to have a sleep score"
   ]
  },
  {
   "cell_type": "code",
   "execution_count": 40,
   "metadata": {},
   "outputs": [],
   "source": [
    "# Drop rows with NaNs\n",
    "sleep_stats_data.dropna(axis=0, inplace=True)\n",
    "\n",
    "# Drop rows with Bed Time that is less than five hours, as they are also likely to be edge cases\n",
    "sleep_stats_data = sleep_stats_data.loc[sleep_stats_data['Time in Bed'] > 300].copy()"
   ]
  },
  {
   "cell_type": "markdown",
   "metadata": {},
   "source": [
    "I want to be able to merge the two DataFrames on the date. The dates are of different format. The sleep_stat DataFrame has both starting and ending dates but what we care about are ending dates (those are always the dates on which the sleep score is provided). I will use the end date column, transform the dates so that they are in the same format across the two DataFrames and then merge the DataFrames on the date."
   ]
  },
  {
   "cell_type": "code",
   "execution_count": 41,
   "metadata": {},
   "outputs": [
    {
     "data": {
      "text/html": [
       "<div>\n",
       "<style scoped>\n",
       "    .dataframe tbody tr th:only-of-type {\n",
       "        vertical-align: middle;\n",
       "    }\n",
       "\n",
       "    .dataframe tbody tr th {\n",
       "        vertical-align: top;\n",
       "    }\n",
       "\n",
       "    .dataframe thead th {\n",
       "        text-align: right;\n",
       "    }\n",
       "</style>\n",
       "<table border=\"1\" class=\"dataframe\">\n",
       "  <thead>\n",
       "    <tr style=\"text-align: right;\">\n",
       "      <th></th>\n",
       "      <th>Start Time</th>\n",
       "      <th>End Time</th>\n",
       "      <th>Minutes Asleep</th>\n",
       "      <th>Minutes Awake</th>\n",
       "      <th>Number of Awakenings</th>\n",
       "      <th>Time in Bed</th>\n",
       "      <th>Minutes REM Sleep</th>\n",
       "      <th>Minutes Light Sleep</th>\n",
       "      <th>Minutes Deep Sleep</th>\n",
       "      <th>Date</th>\n",
       "      <th>timestamp</th>\n",
       "      <th>overall_score</th>\n",
       "    </tr>\n",
       "  </thead>\n",
       "  <tbody>\n",
       "    <tr>\n",
       "      <th>0</th>\n",
       "      <td>30/01/2020 22:44</td>\n",
       "      <td>2020-01-31 07:30:00</td>\n",
       "      <td>452</td>\n",
       "      <td>74</td>\n",
       "      <td>41</td>\n",
       "      <td>526</td>\n",
       "      <td>71.0</td>\n",
       "      <td>274.0</td>\n",
       "      <td>107.0</td>\n",
       "      <td>2020-01-31</td>\n",
       "      <td>2020-01-31 07:30:00+00:00</td>\n",
       "      <td>85</td>\n",
       "    </tr>\n",
       "    <tr>\n",
       "      <th>1</th>\n",
       "      <td>29/01/2020 22:57</td>\n",
       "      <td>2020-01-30 08:39:00</td>\n",
       "      <td>488</td>\n",
       "      <td>93</td>\n",
       "      <td>44</td>\n",
       "      <td>581</td>\n",
       "      <td>53.0</td>\n",
       "      <td>321.0</td>\n",
       "      <td>114.0</td>\n",
       "      <td>2020-01-30</td>\n",
       "      <td>2020-01-30 08:39:00+00:00</td>\n",
       "      <td>82</td>\n",
       "    </tr>\n",
       "    <tr>\n",
       "      <th>2</th>\n",
       "      <td>28/01/2020 23:42</td>\n",
       "      <td>2020-01-29 07:29:00</td>\n",
       "      <td>378</td>\n",
       "      <td>89</td>\n",
       "      <td>39</td>\n",
       "      <td>467</td>\n",
       "      <td>13.0</td>\n",
       "      <td>284.0</td>\n",
       "      <td>81.0</td>\n",
       "      <td>2020-01-29</td>\n",
       "      <td>2020-01-29 07:29:30+00:00</td>\n",
       "      <td>65</td>\n",
       "    </tr>\n",
       "    <tr>\n",
       "      <th>3</th>\n",
       "      <td>27/01/2020 23:41</td>\n",
       "      <td>2020-01-28 07:32:00</td>\n",
       "      <td>413</td>\n",
       "      <td>57</td>\n",
       "      <td>38</td>\n",
       "      <td>470</td>\n",
       "      <td>84.0</td>\n",
       "      <td>278.0</td>\n",
       "      <td>51.0</td>\n",
       "      <td>2020-01-28</td>\n",
       "      <td>2020-01-28 07:32:00+00:00</td>\n",
       "      <td>79</td>\n",
       "    </tr>\n",
       "    <tr>\n",
       "      <th>4</th>\n",
       "      <td>26/01/2020 23:52</td>\n",
       "      <td>2020-01-27 07:39:00</td>\n",
       "      <td>405</td>\n",
       "      <td>62</td>\n",
       "      <td>38</td>\n",
       "      <td>467</td>\n",
       "      <td>96.0</td>\n",
       "      <td>234.0</td>\n",
       "      <td>75.0</td>\n",
       "      <td>2020-01-27</td>\n",
       "      <td>2020-01-27 07:39:30+00:00</td>\n",
       "      <td>79</td>\n",
       "    </tr>\n",
       "  </tbody>\n",
       "</table>\n",
       "</div>"
      ],
      "text/plain": [
       "         Start Time            End Time  Minutes Asleep  Minutes Awake  \\\n",
       "0  30/01/2020 22:44 2020-01-31 07:30:00             452             74   \n",
       "1  29/01/2020 22:57 2020-01-30 08:39:00             488             93   \n",
       "2  28/01/2020 23:42 2020-01-29 07:29:00             378             89   \n",
       "3  27/01/2020 23:41 2020-01-28 07:32:00             413             57   \n",
       "4  26/01/2020 23:52 2020-01-27 07:39:00             405             62   \n",
       "\n",
       "   Number of Awakenings  Time in Bed  Minutes REM Sleep  Minutes Light Sleep  \\\n",
       "0                    41          526               71.0                274.0   \n",
       "1                    44          581               53.0                321.0   \n",
       "2                    39          467               13.0                284.0   \n",
       "3                    38          470               84.0                278.0   \n",
       "4                    38          467               96.0                234.0   \n",
       "\n",
       "   Minutes Deep Sleep        Date                 timestamp  overall_score  \n",
       "0               107.0  2020-01-31 2020-01-31 07:30:00+00:00             85  \n",
       "1               114.0  2020-01-30 2020-01-30 08:39:00+00:00             82  \n",
       "2                81.0  2020-01-29 2020-01-29 07:29:30+00:00             65  \n",
       "3                51.0  2020-01-28 2020-01-28 07:32:00+00:00             79  \n",
       "4                75.0  2020-01-27 2020-01-27 07:39:30+00:00             79  "
      ]
     },
     "execution_count": 41,
     "metadata": {},
     "output_type": "execute_result"
    }
   ],
   "source": [
    "# Will convert the time columns to string and keep the date\n",
    "sleep_stats_data['Date'] = sleep_stats_data['End Time'].apply(lambda x: x.strftime(\"%Y-%m-%d\"))\n",
    "sleep_score_data['Date'] = sleep_score_data['timestamp'].apply(lambda x: x.strftime(\"%Y-%m-%d\"))\n",
    "\n",
    "# Merge the DataFrames\n",
    "joined_data = pd.merge(sleep_stats_data, sleep_score_data, on = 'Date')\n",
    "joined_data.head()"
   ]
  },
  {
   "cell_type": "code",
   "execution_count": 42,
   "metadata": {},
   "outputs": [],
   "source": [
    "# Drop redundant columns\n",
    "sleep_data  = joined_data.drop(columns=['Start Time', 'End Time', 'Date', 'Number of Awakenings', 'timestamp'])"
   ]
  },
  {
   "cell_type": "markdown",
   "metadata": {},
   "source": [
    "### Visualise the relationships between features and sleep score\n",
    "A necessary step before moving on to build ML models is to explore the relationships between the various metrics and the score. Let's start with the effect each individual feature has on the sleep score."
   ]
  },
  {
   "cell_type": "code",
   "execution_count": 43,
   "metadata": {},
   "outputs": [],
   "source": [
    "# Define a function to plot the scatterplots of the relationships between all independent variables and the dependent\n",
    "# variable\n",
    "def plot_relationships(df, num_cols):\n",
    "    variables = df.columns\n",
    "    # This function assumes that the dependent variable is the last column\n",
    "    dep_var = variables[-1]\n",
    "    ind_var = variables[:-1]\n",
    "    figs = len(dep_var)\n",
    "    num_cols = num_cols\n",
    "    num_rows = round(figs / num_cols) + 1\n",
    "    fig = 1\n",
    "    plt.figure(figsize=(20,30))\n",
    "    # Loop through all independent variables and create the scatter plots\n",
    "    for i in ind_var:\n",
    "        pltfignums = [str(num_rows), str(num_cols), str(fig)]\n",
    "        pltfig = int(''.join(pltfignums))\n",
    "        plt.subplot(pltfig)\n",
    "        plt.scatter(df[i], df[dep_var])\n",
    "        plt.xlabel(str(i))\n",
    "        plt.ylabel(str(dep_var))\n",
    "        fig += 1"
   ]
  },
  {
   "cell_type": "code",
   "execution_count": 44,
   "metadata": {},
   "outputs": [
    {
     "data": {
      "image/png": "[encoded data removed]",
      "text/plain": [
       "<Figure size 1440x2160 with 6 Axes>"
      ]
     },
     "metadata": {
      "needs_background": "light"
     },
     "output_type": "display_data"
    }
   ],
   "source": [
    "plot_relationships(sleep_data, 3)"
   ]
  },
  {
   "cell_type": "markdown",
   "metadata": {},
   "source": [
    "Minutes Asleep, Time in Bed and Minutes REM sleep see to have the strongest positive correlation with the overall score"
   ]
  },
  {
   "cell_type": "code",
   "execution_count": 45,
   "metadata": {},
   "outputs": [
    {
     "data": {
      "text/plain": [
       "<matplotlib.axes._subplots.AxesSubplot at 0x1a1c785cd0>"
      ]
     },
     "execution_count": 45,
     "metadata": {},
     "output_type": "execute_result"
    },
    {
     "data": {
      "image/png": "[encoded data removed]",
      "text/plain": [
       "<Figure size 720x432 with 2 Axes>"
      ]
     },
     "metadata": {
      "needs_background": "light"
     },
     "output_type": "display_data"
    }
   ],
   "source": [
    "# Inspect the correlations\n",
    "plt.figure(figsize=(10,6))\n",
    "sns.heatmap(sleep_data.corr(), annot=True, cmap='coolwarm', fmt = '.2g')"
   ]
  },
  {
   "cell_type": "markdown",
   "metadata": {},
   "source": [
    "### Inspect sleep score distribution"
   ]
  },
  {
   "cell_type": "code",
   "execution_count": 46,
   "metadata": {},
   "outputs": [
    {
     "data": {
      "text/plain": [
       "34"
      ]
     },
     "execution_count": 46,
     "metadata": {},
     "output_type": "execute_result"
    }
   ],
   "source": [
    "# Find spread of sleep score values\n",
    "spread = int(max(sleep_data.overall_score) - min(sleep_data.overall_score))\n",
    "spread"
   ]
  },
  {
   "cell_type": "code",
   "execution_count": 47,
   "metadata": {},
   "outputs": [
    {
     "data": {
      "text/plain": [
       "<matplotlib.legend.Legend at 0x1a1b9a1290>"
      ]
     },
     "execution_count": 47,
     "metadata": {},
     "output_type": "execute_result"
    },
    {
     "data": {
      "image/png": "[encoded data removed]",
      "text/plain": [
       "<Figure size 1080x576 with 1 Axes>"
      ]
     },
     "metadata": {
      "needs_background": "light"
     },
     "output_type": "display_data"
    }
   ],
   "source": [
    "# Plot the sleep score histogram and its mean\n",
    "plt.figure(figsize=(15,8))\n",
    "plt.hist(sleep_data.overall_score, bins=spread)\n",
    "plt.axvline(sleep_data.overall_score.mean(), color = 'r', label = 'Average Sleep Score')\n",
    "plt.xlabel('Sleep Score')\n",
    "plt.ylabel('Frequency')\n",
    "plt.title('Sleep Score Distribution')\n",
    "plt.legend()"
   ]
  },
  {
   "cell_type": "markdown",
   "metadata": {},
   "source": [
    "The distribution is skewed to the left and that is expected. The outliers are more for bad sleep as there are late nights out, very early morning wake ups etc. The average is 74, hence the positive outliers are naturally much fewer"
   ]
  },
  {
   "cell_type": "markdown",
   "metadata": {},
   "source": [
    "### Split the data into training, validation and test set\n",
    "I will use train_test_split twice. The first time to split between train and test data. The second time to split the train data into validation and train sets."
   ]
  },
  {
   "cell_type": "code",
   "execution_count": 48,
   "metadata": {},
   "outputs": [],
   "source": [
    "# Perform first split\n",
    "X_train_temp, X_test, y_train_temp, y_test = train_test_split(sleep_data.iloc[:,:-1],\n",
    "                                                             sleep_data['overall_score'], test_size=0.2,\n",
    "                                                             random_state=42)"
   ]
  },
  {
   "cell_type": "code",
   "execution_count": 49,
   "metadata": {},
   "outputs": [],
   "source": [
    "# Perform the second split\n",
    "X_train, X_valid, y_train, y_valid = train_test_split(X_train_temp, y_train_temp, test_size=0.25,\n",
    "                                                     random_state=42)"
   ]
  },
  {
   "cell_type": "code",
   "execution_count": 50,
   "metadata": {},
   "outputs": [
    {
     "data": {
      "text/plain": [
       "(142, 48, 48)"
      ]
     },
     "execution_count": 50,
     "metadata": {},
     "output_type": "execute_result"
    }
   ],
   "source": [
    "# Check the lengths of the different subsets\n",
    "len(X_train), len(X_valid), len(X_test)"
   ]
  },
  {
   "cell_type": "markdown",
   "metadata": {},
   "source": [
    "##### Now that we have a training, validation and test set we can repeat the following process:\n",
    "1. Train models on training data\n",
    "2. Measure their accuracy on the validation data\n",
    "3. Tweak the model to be more accurate and measure the new accuracy\n",
    "4. When satisfied with the performance we measure the generalisability on the test data"
   ]
  },
  {
   "cell_type": "code",
   "execution_count": 54,
   "metadata": {},
   "outputs": [
    {
     "data": {
      "text/plain": [
       "<matplotlib.axes._subplots.AxesSubplot at 0x1a1a6a7050>"
      ]
     },
     "execution_count": 54,
     "metadata": {},
     "output_type": "execute_result"
    },
    {
     "data": {
      "image/png": "[encoded data removed]",
      "text/plain": [
       "<Figure size 1080x576 with 1 Axes>"
      ]
     },
     "metadata": {
      "needs_background": "light"
     },
     "output_type": "display_data"
    }
   ],
   "source": [
    "plt.figure(figsize=(15,8))\n",
    "sns.boxplot(data=X_train.iloc[:,1:], orient='h', palette = 'Set2')"
   ]
  },
  {
   "cell_type": "markdown",
   "metadata": {},
   "source": [
    "### Scaling the Features\n",
    "From the boxplot above we can see that scaling is not generally required for this ML project, as the features in the same order of magnitude using the same units. Nevertheless, it is considered best practice to scale the features when comparing different models and their performance\n",
    "\n",
    "Note that all data processing such as scaling has to be done after the train_test_split, to avoid skewing the validation and test data sets"
   ]
  },
  {
   "cell_type": "code",
   "execution_count": 59,
   "metadata": {},
   "outputs": [
    {
     "data": {
      "text/plain": [
       "array([[ 0.45337621,  0.42105263,  0.40944882,  0.68932039,  0.24324324,\n",
       "         0.56603774],\n",
       "       [ 0.46623794,  0.32631579,  0.39632546,  0.24271845,  0.5       ,\n",
       "         0.5       ],\n",
       "       [ 0.56913183,  0.2       ,  0.4488189 ,  0.73786408,  0.4009009 ,\n",
       "         0.52830189],\n",
       "       [ 0.32797428,  0.6       ,  0.35170604,  0.60194175,  0.09459459,\n",
       "         0.59433962],\n",
       "       [ 0.53054662,  0.26315789,  0.43307087,  0.66990291,  0.29279279,\n",
       "         0.70754717],\n",
       "       [ 0.51446945,  0.24210526,  0.41469816,  0.58252427,  0.35585586,\n",
       "         0.61320755],\n",
       "       [ 0.48553055,  0.26315789,  0.39632546,  0.62135922,  0.62612613,\n",
       "        -0.0754717 ],\n",
       "       [ 0.414791  ,  0.46315789,  0.38845144,  0.63106796,  0.27027027,\n",
       "         0.45283019],\n",
       "       [ 0.52411576,  0.42105263,  0.4671916 ,  0.62135922,  0.42342342,\n",
       "         0.46226415],\n",
       "       [ 0.41800643,  0.4       ,  0.37532808,  0.50485437,  0.2972973 ,\n",
       "         0.52830189],\n",
       "       [ 0.37942122,  0.55789474,  0.3832021 ,  0.37864078,  0.3963964 ,\n",
       "         0.33018868],\n",
       "       [-0.00321543,  0.22105263, -0.01312336,  0.12621359, -0.0045045 ,\n",
       "         0.29245283],\n",
       "       [ 0.64630225,  0.41052632,  0.56430446,  0.70873786,  0.48648649,\n",
       "         0.60377358],\n",
       "       [ 0.47588424,  0.34736842,  0.40944882,  0.62135922,  0.44144144,\n",
       "         0.28301887],\n",
       "       [ 0.39871383,  0.42105263,  0.3648294 ,  0.31067961,  0.42792793,\n",
       "         0.38679245],\n",
       "       [ 0.41157556,  0.13684211,  0.30446194,  0.49514563,  0.47297297,\n",
       "         0.1509434 ],\n",
       "       [ 0.39549839,  0.12631579,  0.28871391,  0.84466019,  0.23423423,\n",
       "         0.26415094],\n",
       "       [ 0.61093248,  0.51578947,  0.56167979,  0.73786408,  0.65315315,\n",
       "         0.12264151],\n",
       "       [ 0.4340836 ,  0.52631579,  0.41994751,  0.31067961,  0.42342342,\n",
       "         0.5       ],\n",
       "       [ 0.4244373 ,  0.42105263,  0.38582677,  0.44660194,  0.31981982,\n",
       "         0.55660377],\n",
       "       [ 0.69131833,  0.73684211,  0.6824147 ,  0.54368932,  0.68468468,\n",
       "         0.48113208],\n",
       "       [ 0.79099678,  0.56842105,  0.72178478,  0.80582524,  0.73423423,\n",
       "         0.41509434],\n",
       "       [ 0.21864952,  0.56842105,  0.25459318,  0.59223301,  0.05855856,\n",
       "         0.35849057],\n",
       "       [ 0.54983923,  0.53684211,  0.51706037,  0.55339806,  0.41441441,\n",
       "         0.62264151],\n",
       "       [ 0.33762058,  0.17894737,  0.25459318,  0.58252427,  0.23423423,\n",
       "         0.3490566 ],\n",
       "       [ 0.59485531,  0.27368421,  0.48818898,  0.5631068 ,  0.63963964,\n",
       "         0.27358491],\n",
       "       [ 0.59807074,  0.4       ,  0.52230971,  0.5631068 ,  0.54954955,\n",
       "         0.47169811],\n",
       "       [ 0.43729904,  0.44210526,  0.4015748 ,  0.6407767 ,  0.35135135,\n",
       "         0.33962264],\n",
       "       [ 0.33440514,  0.27368421,  0.27559055,  0.53398058,  0.18468468,\n",
       "         0.49056604],\n",
       "       [ 0.56913183,  0.38947368,  0.49606299,  0.25242718,  0.59009009,\n",
       "         0.60377358],\n",
       "       [ 0.52733119,  0.35789474,  0.45406824,  1.01941748,  0.12162162,\n",
       "         0.71698113],\n",
       "       [ 0.37620579,  0.38947368,  0.33858268,  0.50485437,  0.24774775,\n",
       "         0.50943396],\n",
       "       [ 0.585209  ,  0.4       ,  0.51181102,  0.32038835,  0.67567568,\n",
       "         0.40566038],\n",
       "       [ 0.79742765,  1.02105263,  0.83989501,  0.99029126,  0.56756757,\n",
       "         0.60377358],\n",
       "       [ 0.47909968,  0.55789474,  0.46456693,  0.38834951,  0.56756757,\n",
       "         0.25471698],\n",
       "       [ 0.51446945,  0.24210526,  0.41469816,  0.80582524,  0.37837838,\n",
       "         0.3490566 ],\n",
       "       [ 0.414791  ,  0.16842105,  0.31496063,  0.60194175,  0.20720721,\n",
       "         0.61320755],\n",
       "       [ 0.40836013,  0.29473684,  0.34120735,  0.88349515,  0.13063063,\n",
       "         0.48113208],\n",
       "       [ 0.44051447,  0.29473684,  0.36745407,  0.57281553,  0.35585586,\n",
       "         0.40566038],\n",
       "       [ 0.59807074,  0.48421053,  0.54330709,  0.74757282,  0.4954955 ,\n",
       "         0.40566038],\n",
       "       [ 0.59485531,  0.43157895,  0.52755906,  0.69902913,  0.36486486,\n",
       "         0.71698113],\n",
       "       [ 0.69131833,  0.27368421,  0.56692913,  0.99029126,  0.45495495,\n",
       "         0.52830189],\n",
       "       [ 0.56913183,  0.24210526,  0.45931759,  0.67961165,  0.54504505,\n",
       "         0.28301887],\n",
       "       [ 0.47588424,  0.35789474,  0.41207349,  0.60194175,  0.20720721,\n",
       "         0.79245283],\n",
       "       [ 0.35369775,  0.18947368,  0.27034121,  0.30097087,  0.5       ,\n",
       "         0.11320755],\n",
       "       [ 0.66559486,  0.49473684,  0.60104987,  0.55339806,  0.53603604,\n",
       "         0.70754717],\n",
       "       [ 0.47266881,  0.57894737,  0.46456693,  0.66019417,  0.4954955 ,\n",
       "         0.12264151],\n",
       "       [ 0.52733119,  0.31578947,  0.44356955,  0.54368932,  0.3963964 ,\n",
       "         0.60377358]])"
      ]
     },
     "execution_count": 59,
     "metadata": {},
     "output_type": "execute_result"
    }
   ],
   "source": [
    "# Create the scaler\n",
    "scaler = MinMaxScaler()\n",
    "\n",
    "# Fit and transform using the training data\n",
    "scaler.fit_transform(X_train)\n",
    "\n",
    "# Transform the validation and test features\n",
    "scaler.transform(X_valid)\n",
    "scaler.transform(X_test)"
   ]
  },
  {
   "cell_type": "markdown",
   "metadata": {},
   "source": [
    "###  Feature Selection using Lasso Regression\n",
    "\n",
    "Fitting a linear regression minimises a loss function by choosing coefficients for each feature variable. One problem is that large coefficients can lead to overfitting, meaning that the model will perform well on the training data but poorly on data it has not seen before. This is why we need regulisation. Essentially, you just alter the loss function to penalise large coefficients. Lasso Regression, unlike the closele related Ridge Regression, can be used to select important features of a dataset. This is because it tends to shrink the coefficients of less important features to close to zero."
   ]
  },
  {
   "cell_type": "code",
   "execution_count": 65,
   "metadata": {},
   "outputs": [
    {
     "data": {
      "text/plain": [
       "Lasso(alpha=0.1, copy_X=True, fit_intercept=True, max_iter=1000,\n",
       "      normalize=False, positive=False, precompute=False, random_state=None,\n",
       "      selection='cyclic', tol=0.0001, warm_start=False)"
      ]
     },
     "execution_count": 65,
     "metadata": {},
     "output_type": "execute_result"
    }
   ],
   "source": [
    "# Create the model\n",
    "lasso = Lasso(alpha=0.1)\n",
    "\n",
    "# Fit the model to the training data\n",
    "lasso.fit(X_train, y_train)"
   ]
  },
  {
   "cell_type": "code",
   "execution_count": 66,
   "metadata": {},
   "outputs": [
    {
     "data": {
      "text/plain": [
       "Text(0.5, 1.0, 'Lasso coefficients for sleep data features')"
      ]
     },
     "execution_count": 66,
     "metadata": {},
     "output_type": "execute_result"
    },
    {
     "data": {
      "image/png": "[encoded data removed]",
      "text/plain": [
       "<Figure size 720x432 with 1 Axes>"
      ]
     },
     "metadata": {
      "needs_background": "light"
     },
     "output_type": "display_data"
    }
   ],
   "source": [
    "# Extract the coefficients\n",
    "lasso_coef = lasso.coef_\n",
    "\n",
    "# Plot the coefficients\n",
    "plt.figure(figsize=(10, 6))\n",
    "plt.plot(range(len(X_train.columns)), lasso_coef)\n",
    "plt.xticks(range(len(X_train.columns)), X_train.columns, rotation = 60)\n",
    "plt.axhline(0.0, linestyle='--', color = 'r')\n",
    "plt.ylabel('Coefficients')\n",
    "plt.title('Lasso coefficients for sleep data features')"
   ]
  },
  {
   "cell_type": "markdown",
   "metadata": {},
   "source": [
    "The Lasso Regression algorithm has reduced the coefficients of Time in Bed and Minutes Light sleep to close to zero, deeming them less important than the rest. This is helpful, as we would face multicolinearity issues if we included all the features. Multicolinearity itself is not an issue when we only care about the predicitve power of the model, but it hurts interpretablity. For the next steps I will drop the less important features "
   ]
  },
  {
   "cell_type": "code",
   "execution_count": 67,
   "metadata": {},
   "outputs": [
    {
     "name": "stderr",
     "output_type": "stream",
     "text": [
      "/Users/Dimitris/anaconda3/lib/python3.7/site-packages/pandas/core/frame.py:3997: SettingWithCopyWarning: \n",
      "A value is trying to be set on a copy of a slice from a DataFrame\n",
      "\n",
      "See the caveats in the documentation: https://pandas.pydata.org/pandas-docs/stable/user_guide/indexing.html#returning-a-view-versus-a-copy\n",
      "  errors=errors,\n"
     ]
    }
   ],
   "source": [
    "# Create a list of the columns to drop\n",
    "cols_to_drop = ['Time in Bed', 'Minutes Light Sleep']\n",
    "\n",
    "# Drop these columns from the training, test and validation data\n",
    "X_train_temp.drop(columns=cols_to_drop, inplace=True)\n",
    "X_train.drop(columns=cols_to_drop, inplace=True)\n",
    "X_valid.drop(columns=cols_to_drop, inplace=True)\n",
    "X_test.drop(columns=cols_to_drop, inplace=True)"
   ]
  },
  {
   "cell_type": "markdown",
   "metadata": {},
   "source": [
    "### Define performance measures\n",
    "\n",
    "The performance measure I want to use to compare the different ML models are Accuracy and Score. Average Error is added as an extra"
   ]
  },
  {
   "cell_type": "code",
   "execution_count": 80,
   "metadata": {},
   "outputs": [],
   "source": [
    "def scoring(model, test_features, test_labels):\n",
    "    predictions = model.predict(test_features)\n",
    "    mae = mean_absolute_error(test_labels, predictions)\n",
    "    mse = mean_squared_error(test_labels, predictions)\n",
    "    r2 = r2_score(test_labels, predictions)\n",
    "    errors = abs(predictions - test_labels)\n",
    "    mape = 100 * np.mean(errors / test_labels)\n",
    "    accuracy = 100 - mape\n",
    "    print('Model Performance')\n",
    "    print('Mean Absolute Error: {:0.4f}.'.format(mae))\n",
    "    print('Mean Squared Error: {:0.4f}.'.format(mse))\n",
    "    print('R^2 Score = {:0.4f}.'.format(r2))\n",
    "    print('Accuracy = {:0.2f}%.'.format(accuracy))"
   ]
  },
  {
   "cell_type": "markdown",
   "metadata": {},
   "source": [
    "### Create the benchmark to compare performance against (Baseline\n",
    "\n",
    "The baseline that I will compare the performance of the ML models against will be simply predicting the average Sleep score every night. A good model should be better that simply using the average score as a prediction for every night"
   ]
  },
  {
   "cell_type": "code",
   "execution_count": 72,
   "metadata": {},
   "outputs": [
    {
     "name": "stdout",
     "output_type": "stream",
     "text": [
      "Model Performance\n",
      "Mean Absolute Error: 3.8333.\n",
      "Mean Squared Error: 24.4583.\n",
      "R^2 Score = -0.0209.\n",
      "Accuracy = 94.70%.\n"
     ]
    }
   ],
   "source": [
    "# Create a list of median predictions that has the same length as y_valid\n",
    "baseline_y = [y_train.median()] * len(y_valid)\n",
    "\n",
    "# Compute the relevant scores\n",
    "base_predictions = baseline_y\n",
    "base_mae = mean_absolute_error(y_valid, base_predictions)\n",
    "base_mse = mean_squared_error(y_valid, base_predictions)\n",
    "base_r2 = r2_score(y_valid, base_predictions)\n",
    "base_errors = abs(base_predictions - y_valid)\n",
    "base_mape = 100 * np.mean(base_errors / y_valid)\n",
    "base_accuracy = 100 - base_mape\n",
    "print('Model Performance')\n",
    "print('Mean Absolute Error: {:0.4f}.'.format(base_mae))\n",
    "print('Mean Squared Error: {:0.4f}.'.format(base_mse))\n",
    "print('R^2 Score = {:0.4f}.'.format(base_r2))\n",
    "print('Accuracy = {:0.2f}%.'.format(base_accuracy))"
   ]
  },
  {
   "cell_type": "markdown",
   "metadata": {},
   "source": [
    "### Multiple Linear Regression\n",
    "\n",
    "The first model I will use is the simple linear regression to predict the sleep scores"
   ]
  },
  {
   "cell_type": "code",
   "execution_count": 81,
   "metadata": {},
   "outputs": [],
   "source": [
    "# Create regressor\n",
    "regressor = LinearRegression()\n",
    "\n",
    "# Fit MLR model to training data\n",
    "mlr = regressor.fit(X_train, y_train)"
   ]
  },
  {
   "cell_type": "code",
   "execution_count": 82,
   "metadata": {},
   "outputs": [
    {
     "name": "stdout",
     "output_type": "stream",
     "text": [
      "Model Performance\n",
      "Mean Absolute Error: 4.1423.\n",
      "Mean Squared Error: 30.0647.\n",
      "R^2 Score = -0.2550.\n",
      "Accuracy = 94.33%.\n"
     ]
    }
   ],
   "source": [
    "# Evaluate the performance\n",
    "scoring(mlr, X_valid, y_valid)"
   ]
  },
  {
   "cell_type": "code",
   "execution_count": 85,
   "metadata": {},
   "outputs": [
    {
     "data": {
      "text/html": [
       "<table class=\"simpletable\">\n",
       "<caption>OLS Regression Results</caption>\n",
       "<tr>\n",
       "  <th>Dep. Variable:</th>      <td>overall_score</td>  <th>  R-squared:         </th> <td>   0.424</td>\n",
       "</tr>\n",
       "<tr>\n",
       "  <th>Model:</th>                   <td>OLS</td>       <th>  Adj. R-squared:    </th> <td>   0.407</td>\n",
       "</tr>\n",
       "<tr>\n",
       "  <th>Method:</th>             <td>Least Squares</td>  <th>  F-statistic:       </th> <td>   25.17</td>\n",
       "</tr>\n",
       "<tr>\n",
       "  <th>Date:</th>             <td>Sat, 22 Aug 2020</td> <th>  Prob (F-statistic):</th> <td>1.22e-15</td>\n",
       "</tr>\n",
       "<tr>\n",
       "  <th>Time:</th>                 <td>15:10:52</td>     <th>  Log-Likelihood:    </th> <td> -421.28</td>\n",
       "</tr>\n",
       "<tr>\n",
       "  <th>No. Observations:</th>      <td>   142</td>      <th>  AIC:               </th> <td>   852.6</td>\n",
       "</tr>\n",
       "<tr>\n",
       "  <th>Df Residuals:</th>          <td>   137</td>      <th>  BIC:               </th> <td>   867.3</td>\n",
       "</tr>\n",
       "<tr>\n",
       "  <th>Df Model:</th>              <td>     4</td>      <th>                     </th>     <td> </td>   \n",
       "</tr>\n",
       "<tr>\n",
       "  <th>Covariance Type:</th>      <td>nonrobust</td>    <th>                     </th>     <td> </td>   \n",
       "</tr>\n",
       "</table>\n",
       "<table class=\"simpletable\">\n",
       "<tr>\n",
       "           <td></td>             <th>coef</th>     <th>std err</th>      <th>t</th>      <th>P>|t|</th>  <th>[0.025</th>    <th>0.975]</th>  \n",
       "</tr>\n",
       "<tr>\n",
       "  <th>const</th>              <td>   52.1903</td> <td>    3.382</td> <td>   15.432</td> <td> 0.000</td> <td>   45.503</td> <td>   58.878</td>\n",
       "</tr>\n",
       "<tr>\n",
       "  <th>Minutes Asleep</th>     <td>    0.0623</td> <td>    0.011</td> <td>    5.635</td> <td> 0.000</td> <td>    0.040</td> <td>    0.084</td>\n",
       "</tr>\n",
       "<tr>\n",
       "  <th>Minutes Awake</th>      <td>   -0.1417</td> <td>    0.030</td> <td>   -4.789</td> <td> 0.000</td> <td>   -0.200</td> <td>   -0.083</td>\n",
       "</tr>\n",
       "<tr>\n",
       "  <th>Minutes REM Sleep</th>  <td>    0.0672</td> <td>    0.021</td> <td>    3.151</td> <td> 0.002</td> <td>    0.025</td> <td>    0.109</td>\n",
       "</tr>\n",
       "<tr>\n",
       "  <th>Minutes Deep Sleep</th> <td>    0.0424</td> <td>    0.023</td> <td>    1.873</td> <td> 0.063</td> <td>   -0.002</td> <td>    0.087</td>\n",
       "</tr>\n",
       "</table>\n",
       "<table class=\"simpletable\">\n",
       "<tr>\n",
       "  <th>Omnibus:</th>       <td>10.676</td> <th>  Durbin-Watson:     </th> <td>   1.817</td>\n",
       "</tr>\n",
       "<tr>\n",
       "  <th>Prob(Omnibus):</th> <td> 0.005</td> <th>  Jarque-Bera (JB):  </th> <td>  20.251</td>\n",
       "</tr>\n",
       "<tr>\n",
       "  <th>Skew:</th>          <td>-0.277</td> <th>  Prob(JB):          </th> <td>4.00e-05</td>\n",
       "</tr>\n",
       "<tr>\n",
       "  <th>Kurtosis:</th>      <td> 4.765</td> <th>  Cond. No.          </th> <td>3.63e+03</td>\n",
       "</tr>\n",
       "</table><br/><br/>Warnings:<br/>[1] Standard Errors assume that the covariance matrix of the errors is correctly specified.<br/>[2] The condition number is large, 3.63e+03. This might indicate that there are<br/>strong multicollinearity or other numerical problems."
      ],
      "text/plain": [
       "<class 'statsmodels.iolib.summary.Summary'>\n",
       "\"\"\"\n",
       "                            OLS Regression Results                            \n",
       "==============================================================================\n",
       "Dep. Variable:          overall_score   R-squared:                       0.424\n",
       "Model:                            OLS   Adj. R-squared:                  0.407\n",
       "Method:                 Least Squares   F-statistic:                     25.17\n",
       "Date:                Sat, 22 Aug 2020   Prob (F-statistic):           1.22e-15\n",
       "Time:                        15:10:52   Log-Likelihood:                -421.28\n",
       "No. Observations:                 142   AIC:                             852.6\n",
       "Df Residuals:                     137   BIC:                             867.3\n",
       "Df Model:                           4                                         \n",
       "Covariance Type:            nonrobust                                         \n",
       "======================================================================================\n",
       "                         coef    std err          t      P>|t|      [0.025      0.975]\n",
       "--------------------------------------------------------------------------------------\n",
       "const                 52.1903      3.382     15.432      0.000      45.503      58.878\n",
       "Minutes Asleep         0.0623      0.011      5.635      0.000       0.040       0.084\n",
       "Minutes Awake         -0.1417      0.030     -4.789      0.000      -0.200      -0.083\n",
       "Minutes REM Sleep      0.0672      0.021      3.151      0.002       0.025       0.109\n",
       "Minutes Deep Sleep     0.0424      0.023      1.873      0.063      -0.002       0.087\n",
       "==============================================================================\n",
       "Omnibus:                       10.676   Durbin-Watson:                   1.817\n",
       "Prob(Omnibus):                  0.005   Jarque-Bera (JB):               20.251\n",
       "Skew:                          -0.277   Prob(JB):                     4.00e-05\n",
       "Kurtosis:                       4.765   Cond. No.                     3.63e+03\n",
       "==============================================================================\n",
       "\n",
       "Warnings:\n",
       "[1] Standard Errors assume that the covariance matrix of the errors is correctly specified.\n",
       "[2] The condition number is large, 3.63e+03. This might indicate that there are\n",
       "strong multicollinearity or other numerical problems.\n",
       "\"\"\""
      ]
     },
     "execution_count": 85,
     "metadata": {},
     "output_type": "execute_result"
    }
   ],
   "source": [
    "# Inspect the statsmodel results\n",
    "X_mlr = sm.add_constant(X_train)\n",
    "est = sm.OLS(y_train, X_mlr)\n",
    "est2 = est.fit()\n",
    "est2.summary()"
   ]
  },
  {
   "cell_type": "code",
   "execution_count": 90,
   "metadata": {},
   "outputs": [],
   "source": [
    "# Create regressor\n",
    "rf_regressor = RandomForestRegressor(random_state=42)\n",
    "\n",
    "# Fit RF model to training data\n",
    "rf = rf_regressor.fit(X_train, y_train)"
   ]
  },
  {
   "cell_type": "code",
   "execution_count": 91,
   "metadata": {},
   "outputs": [
    {
     "name": "stdout",
     "output_type": "stream",
     "text": [
      "Model Performance\n",
      "Mean Absolute Error: 3.5054.\n",
      "Mean Squared Error: 19.8553.\n",
      "R^2 Score = 0.1712.\n",
      "Accuracy = 95.20%.\n"
     ]
    }
   ],
   "source": [
    "# Evaluate the performance\n",
    "scoring(rf, X_valid, y_valid)"
   ]
  },
  {
   "cell_type": "code",
   "execution_count": 92,
   "metadata": {},
   "outputs": [
    {
     "data": {
      "text/plain": [
       "[<matplotlib.lines.Line2D at 0x1a1c73ce50>]"
      ]
     },
     "execution_count": 92,
     "metadata": {},
     "output_type": "execute_result"
    },
    {
     "data": {
      "image/png": "[encoded data removed]",
      "text/plain": [
       "<Figure size 432x288 with 1 Axes>"
      ]
     },
     "metadata": {
      "needs_background": "light"
     },
     "output_type": "display_data"
    }
   ],
   "source": [
    "# Make predictions\n",
    "y_pred = rf.predict(X_valid)\n",
    "x = np.linspace(65,90,25)\n",
    "y = x\n",
    "\n",
    "plt.scatter(y_pred, y_valid)\n",
    "plt.plot(x,y)"
   ]
  },
  {
   "cell_type": "code",
   "execution_count": 93,
   "metadata": {},
   "outputs": [
    {
     "data": {
      "text/html": [
       "<div>\n",
       "<style scoped>\n",
       "    .dataframe tbody tr th:only-of-type {\n",
       "        vertical-align: middle;\n",
       "    }\n",
       "\n",
       "    .dataframe tbody tr th {\n",
       "        vertical-align: top;\n",
       "    }\n",
       "\n",
       "    .dataframe thead th {\n",
       "        text-align: right;\n",
       "    }\n",
       "</style>\n",
       "<table border=\"1\" class=\"dataframe\">\n",
       "  <thead>\n",
       "    <tr style=\"text-align: right;\">\n",
       "      <th></th>\n",
       "      <th>Feature Importance</th>\n",
       "    </tr>\n",
       "  </thead>\n",
       "  <tbody>\n",
       "    <tr>\n",
       "      <th>Minutes Asleep</th>\n",
       "      <td>0.403139</td>\n",
       "    </tr>\n",
       "    <tr>\n",
       "      <th>Minutes Awake</th>\n",
       "      <td>0.199067</td>\n",
       "    </tr>\n",
       "    <tr>\n",
       "      <th>Minutes REM Sleep</th>\n",
       "      <td>0.248012</td>\n",
       "    </tr>\n",
       "    <tr>\n",
       "      <th>Minutes Deep Sleep</th>\n",
       "      <td>0.149781</td>\n",
       "    </tr>\n",
       "  </tbody>\n",
       "</table>\n",
       "</div>"
      ],
      "text/plain": [
       "                    Feature Importance\n",
       "Minutes Asleep                0.403139\n",
       "Minutes Awake                 0.199067\n",
       "Minutes REM Sleep             0.248012\n",
       "Minutes Deep Sleep            0.149781"
      ]
     },
     "execution_count": 93,
     "metadata": {},
     "output_type": "execute_result"
    }
   ],
   "source": [
    "# Create a DataFrame of Feature Importances\n",
    "rf_feats = pd.DataFrame(rf.feature_importances_, index=X_train.columns, columns=['Feature Importance'])\n",
    "rf_feats"
   ]
  },
  {
   "cell_type": "markdown",
   "metadata": {},
   "source": [
    "### Extreme Gradient Boosting"
   ]
  },
  {
   "cell_type": "code",
   "execution_count": 97,
   "metadata": {},
   "outputs": [],
   "source": [
    "# Create regressor\n",
    "xgb_regressor = XGBRegressor(random_state=42)\n",
    "\n",
    "# Fit model to training data\n",
    "xgb = xgb_regressor.fit(X_train, y_train)"
   ]
  },
  {
   "cell_type": "code",
   "execution_count": 100,
   "metadata": {},
   "outputs": [
    {
     "name": "stdout",
     "output_type": "stream",
     "text": [
      "Model Performance\n",
      "Mean Absolute Error: 3.7151.\n",
      "Mean Squared Error: 23.6993.\n",
      "R^2 Score = 0.0107.\n",
      "Accuracy = 94.90%.\n"
     ]
    }
   ],
   "source": [
    "scoring(xgb, X_valid, y_valid)"
   ]
  },
  {
   "cell_type": "code",
   "execution_count": 98,
   "metadata": {},
   "outputs": [
    {
     "data": {
      "text/html": [
       "<div>\n",
       "<style scoped>\n",
       "    .dataframe tbody tr th:only-of-type {\n",
       "        vertical-align: middle;\n",
       "    }\n",
       "\n",
       "    .dataframe tbody tr th {\n",
       "        vertical-align: top;\n",
       "    }\n",
       "\n",
       "    .dataframe thead th {\n",
       "        text-align: right;\n",
       "    }\n",
       "</style>\n",
       "<table border=\"1\" class=\"dataframe\">\n",
       "  <thead>\n",
       "    <tr style=\"text-align: right;\">\n",
       "      <th></th>\n",
       "      <th>Feature Importance</th>\n",
       "    </tr>\n",
       "  </thead>\n",
       "  <tbody>\n",
       "    <tr>\n",
       "      <th>Minutes Asleep</th>\n",
       "      <td>0.224146</td>\n",
       "    </tr>\n",
       "    <tr>\n",
       "      <th>Minutes Awake</th>\n",
       "      <td>0.251697</td>\n",
       "    </tr>\n",
       "    <tr>\n",
       "      <th>Minutes REM Sleep</th>\n",
       "      <td>0.307980</td>\n",
       "    </tr>\n",
       "    <tr>\n",
       "      <th>Minutes Deep Sleep</th>\n",
       "      <td>0.216178</td>\n",
       "    </tr>\n",
       "  </tbody>\n",
       "</table>\n",
       "</div>"
      ],
      "text/plain": [
       "                    Feature Importance\n",
       "Minutes Asleep                0.224146\n",
       "Minutes Awake                 0.251697\n",
       "Minutes REM Sleep             0.307980\n",
       "Minutes Deep Sleep            0.216178"
      ]
     },
     "execution_count": 98,
     "metadata": {},
     "output_type": "execute_result"
    }
   ],
   "source": [
    "# Create a DataFrame to explore the Feature Importances again\n",
    "xgb_feats = pd.DataFrame(xgb.feature_importances_, index=X_train.columns, columns=['Feature Importance'])\n",
    "xgb_feats"
   ]
  },
  {
   "cell_type": "markdown",
   "metadata": {},
   "source": [
    "### Cross-Validation of models"
   ]
  },
  {
   "cell_type": "code",
   "execution_count": 101,
   "metadata": {},
   "outputs": [],
   "source": [
    "# Create the models to be tested\n",
    "mlr_reg = LinearRegression()\n",
    "rf_reg = RandomForestRegressor(random_state=42)\n",
    "xgb_reg = XGBRegressor(random_state=42)"
   ]
  },
  {
   "cell_type": "code",
   "execution_count": 103,
   "metadata": {},
   "outputs": [],
   "source": [
    "# Put the models in a list to be used for cross-validation\n",
    "models = [mlr_reg, rf_reg, xgb_reg]"
   ]
  },
  {
   "cell_type": "code",
   "execution_count": 108,
   "metadata": {},
   "outputs": [],
   "source": [
    "# Define a function that compares ths CV performance of a set of predetermined models\n",
    "def cv_comparison(models, X, y, cv):\n",
    "    # Initiate a DataFrame for the averages and a list for all measures\n",
    "    cv_accuracies = pd.DataFrame()\n",
    "    maes = []\n",
    "    mses = []\n",
    "    r2s = []\n",
    "    accs = []\n",
    "    # Loop through the models, run a CV, add the average scores to the DataFrame and the scores of all\n",
    "    # CVs to the list\n",
    "    for model in models:\n",
    "        mae = -np.round(cross_val_score(model, X, y, scoring='neg_mean_absolute_error', cv = cv), 4)\n",
    "        maes.append(mae)\n",
    "        mae_avg = round(mae.mean(), 4)\n",
    "        mse = -np.round(cross_val_score(model, X, y, scoring='neg_mean_squared_error', cv = cv), 4)\n",
    "        mses.append(mse)\n",
    "        mse_avg = round(mse.mean(), 4)\n",
    "        r2 = -np.round(cross_val_score(model, X, y, scoring='r2', cv = cv), 4)\n",
    "        r2s.append(r2)\n",
    "        r2_avg = round(r2.mean(), 4)\n",
    "        acc = np.round((100 - (100 * (mae * len(X))) / sum(y)), 4)\n",
    "        accs.append(acc)\n",
    "        acc_avg = round(acc.mean(), 4)\n",
    "        cv_accuracies[str(model)] = [mae_avg, mse_avg, r2_avg, acc_avg]\n",
    "    cv_accuracies.index = ['Mean Absolute Error', 'Mean Squared Error', 'R^2', 'Accuracy']\n",
    "    return cv_accuracies, maes, mses, r2s, accs"
   ]
  },
  {
   "cell_type": "code",
   "execution_count": 109,
   "metadata": {},
   "outputs": [],
   "source": [
    "# Run the cross-validation comparison of the models\n",
    "comp, maes, mses, r2s, accs = cv_comparison(models, X_train, y_train, 4)"
   ]
  },
  {
   "cell_type": "code",
   "execution_count": 111,
   "metadata": {},
   "outputs": [
    {
     "data": {
      "text/html": [
       "<div>\n",
       "<style scoped>\n",
       "    .dataframe tbody tr th:only-of-type {\n",
       "        vertical-align: middle;\n",
       "    }\n",
       "\n",
       "    .dataframe tbody tr th {\n",
       "        vertical-align: top;\n",
       "    }\n",
       "\n",
       "    .dataframe thead th {\n",
       "        text-align: right;\n",
       "    }\n",
       "</style>\n",
       "<table border=\"1\" class=\"dataframe\">\n",
       "  <thead>\n",
       "    <tr style=\"text-align: right;\">\n",
       "      <th></th>\n",
       "      <th>Multiple Linear Regression</th>\n",
       "      <th>Random Forest</th>\n",
       "      <th>Extreme Gradient Boosting</th>\n",
       "    </tr>\n",
       "  </thead>\n",
       "  <tbody>\n",
       "    <tr>\n",
       "      <th>Mean Absolute Error</th>\n",
       "      <td>3.6810</td>\n",
       "      <td>4.0195</td>\n",
       "      <td>4.3780</td>\n",
       "    </tr>\n",
       "    <tr>\n",
       "      <th>Mean Squared Error</th>\n",
       "      <td>23.8912</td>\n",
       "      <td>27.2341</td>\n",
       "      <td>32.4398</td>\n",
       "    </tr>\n",
       "    <tr>\n",
       "      <th>R^2</th>\n",
       "      <td>-0.3767</td>\n",
       "      <td>-0.2790</td>\n",
       "      <td>-0.1350</td>\n",
       "    </tr>\n",
       "    <tr>\n",
       "      <th>Accuracy</th>\n",
       "      <td>95.0614</td>\n",
       "      <td>94.6073</td>\n",
       "      <td>94.1262</td>\n",
       "    </tr>\n",
       "  </tbody>\n",
       "</table>\n",
       "</div>"
      ],
      "text/plain": [
       "                     Multiple Linear Regression  Random Forest  \\\n",
       "Mean Absolute Error                      3.6810         4.0195   \n",
       "Mean Squared Error                      23.8912        27.2341   \n",
       "R^2                                     -0.3767        -0.2790   \n",
       "Accuracy                                95.0614        94.6073   \n",
       "\n",
       "                     Extreme Gradient Boosting  \n",
       "Mean Absolute Error                     4.3780  \n",
       "Mean Squared Error                     32.4398  \n",
       "R^2                                    -0.1350  \n",
       "Accuracy                               94.1262  "
      ]
     },
     "execution_count": 111,
     "metadata": {},
     "output_type": "execute_result"
    }
   ],
   "source": [
    "# Change the columns of the comparison table and return it\n",
    "comp.columns = ['Multiple Linear Regression', 'Random Forest', 'Extreme Gradient Boosting']\n",
    "comp"
   ]
  },
  {
   "cell_type": "markdown",
   "metadata": {},
   "source": [
    "Intrestingly MLR seems to be the most accurate model, with the lowest errors. And all R^2 are negative, meaning that our models are not good enough yet"
   ]
  },
  {
   "cell_type": "code",
   "execution_count": 112,
   "metadata": {},
   "outputs": [
    {
     "data": {
      "text/html": [
       "<div>\n",
       "<style scoped>\n",
       "    .dataframe tbody tr th:only-of-type {\n",
       "        vertical-align: middle;\n",
       "    }\n",
       "\n",
       "    .dataframe tbody tr th {\n",
       "        vertical-align: top;\n",
       "    }\n",
       "\n",
       "    .dataframe thead th {\n",
       "        text-align: right;\n",
       "    }\n",
       "</style>\n",
       "<table border=\"1\" class=\"dataframe\">\n",
       "  <thead>\n",
       "    <tr style=\"text-align: right;\">\n",
       "      <th></th>\n",
       "      <th>1st Fold</th>\n",
       "      <th>2nd Fold</th>\n",
       "      <th>3rd Fold</th>\n",
       "      <th>4th Fold</th>\n",
       "      <th>Average</th>\n",
       "    </tr>\n",
       "  </thead>\n",
       "  <tbody>\n",
       "    <tr>\n",
       "      <th>Multiple Linear Regression</th>\n",
       "      <td>-0.3186</td>\n",
       "      <td>-0.2148</td>\n",
       "      <td>-0.5806</td>\n",
       "      <td>-0.3927</td>\n",
       "      <td>-0.3767</td>\n",
       "    </tr>\n",
       "    <tr>\n",
       "      <th>Random Forest</th>\n",
       "      <td>-0.3053</td>\n",
       "      <td>-0.0309</td>\n",
       "      <td>-0.4520</td>\n",
       "      <td>-0.3276</td>\n",
       "      <td>-0.2790</td>\n",
       "    </tr>\n",
       "    <tr>\n",
       "      <th>Extreme Gradient Boosting</th>\n",
       "      <td>-0.3421</td>\n",
       "      <td>0.0736</td>\n",
       "      <td>-0.1845</td>\n",
       "      <td>-0.0868</td>\n",
       "      <td>-0.1350</td>\n",
       "    </tr>\n",
       "  </tbody>\n",
       "</table>\n",
       "</div>"
      ],
      "text/plain": [
       "                            1st Fold  2nd Fold  3rd Fold  4th Fold  Average\n",
       "Multiple Linear Regression   -0.3186   -0.2148   -0.5806   -0.3927  -0.3767\n",
       "Random Forest                -0.3053   -0.0309   -0.4520   -0.3276  -0.2790\n",
       "Extreme Gradient Boosting    -0.3421    0.0736   -0.1845   -0.0868  -0.1350"
      ]
     },
     "execution_count": 112,
     "metadata": {},
     "output_type": "execute_result"
    }
   ],
   "source": [
    "# Create a DataFrame for all R^2s\n",
    "r2_comp = pd.DataFrame(r2s, index=comp.columns, columns = ['1st Fold', '2nd Fold', '3rd Fold', '4th Fold'])\n",
    "\n",
    "# Add a columns for the averages\n",
    "r2_comp['Average'] = np.round(r2_comp.mean(axis=1), 4)\n",
    "r2_comp"
   ]
  },
  {
   "cell_type": "markdown",
   "metadata": {},
   "source": [
    "### Hyperparamter optimisation for Random Forest\n",
    "I will tune the following hyperparamters: n_estimators, max_features, max_depth, criterion, min_samples, bootstrap, min_impurity_decrease"
   ]
  },
  {
   "cell_type": "code",
   "execution_count": 113,
   "metadata": {},
   "outputs": [],
   "source": [
    "# Number of trees in Random Forest\n",
    "rf_n_estimators = [int(x) for x in np.linspace(200, 1000, 5)]\n",
    "rf_n_estimators.append(1500)\n",
    "rf_n_estimators.append(2000)\n",
    "\n",
    "# Maximum number of levels in a tree\n",
    "rf_max_depth = [int(x) for x in np.linspace(5, 55, 11)]\n",
    "# Add the default as a possible value\n",
    "rf_max_depth.append(None)\n",
    "\n",
    "# Number of features to consider at every split\n",
    "rf_max_features = ['auto', 'sqrt', 'log2'] \n",
    "\n",
    "# Criterion to split on\n",
    "rf_criterion = ['mse', 'mae']\n",
    "\n",
    "# Minimum number of samples required to split a node\n",
    "rf_min_samples_split = [int(x) for x in np.linspace(2, 10, 9)]\n",
    "\n",
    "# Minimum decrease in impurity required for split to happen\n",
    "rf_min_impurity_decrease = [0.0, 0.05, 0.1]\n",
    "\n",
    "# Method of selecting samples for training each tree\n",
    "rf_bootstrap = [True, False]"
   ]
  },
  {
   "cell_type": "code",
   "execution_count": 115,
   "metadata": {},
   "outputs": [
    {
     "data": {
      "text/plain": [
       "{'n_estimators': [200, 400, 600, 800, 1000, 1500, 2000],\n",
       " 'max_depth': [5, 10, 15, 20, 25, 30, 35, 40, 45, 50, 55, None],\n",
       " 'max_features': ['auto', 'sqrt', 'log2'],\n",
       " 'criterion': ['mse', 'mae'],\n",
       " 'min_samples_split': [2, 3, 4, 5, 6, 7, 8, 9, 10],\n",
       " 'min_impurity_decrease': [0.0, 0.05, 0.1],\n",
       " 'bootstrap': [True, False]}"
      ]
     },
     "execution_count": 115,
     "metadata": {},
     "output_type": "execute_result"
    }
   ],
   "source": [
    "# Create the grid\n",
    "rf_grid = {'n_estimators': rf_n_estimators,\n",
    "          'max_depth': rf_max_depth,\n",
    "          'max_features': rf_max_features,\n",
    "          'criterion': rf_criterion,\n",
    "          'min_samples_split': rf_min_samples_split,\n",
    "          'min_impurity_decrease': rf_min_impurity_decrease,\n",
    "          'bootstrap': rf_bootstrap}\n",
    "rf_grid"
   ]
  },
  {
   "cell_type": "markdown",
   "metadata": {},
   "source": [
    "I will search across 200 different combinations, meaning that 600 models will be evaluated (3-folds of 200)"
   ]
  },
  {
   "cell_type": "code",
   "execution_count": 118,
   "metadata": {},
   "outputs": [
    {
     "name": "stdout",
     "output_type": "stream",
     "text": [
      "Fitting 3 folds for each of 200 candidates, totalling 600 fits\n"
     ]
    },
    {
     "name": "stderr",
     "output_type": "stream",
     "text": [
      "[Parallel(n_jobs=-1)]: Using backend LokyBackend with 4 concurrent workers.\n",
      "[Parallel(n_jobs=-1)]: Done  33 tasks      | elapsed:   20.7s\n",
      "[Parallel(n_jobs=-1)]: Done 154 tasks      | elapsed:  1.6min\n",
      "[Parallel(n_jobs=-1)]: Done 357 tasks      | elapsed:  4.3min\n",
      "[Parallel(n_jobs=-1)]: Done 600 out of 600 | elapsed:  6.7min finished\n"
     ]
    },
    {
     "data": {
      "text/plain": [
       "RandomizedSearchCV(cv=3, error_score=nan,\n",
       "                   estimator=RandomForestRegressor(bootstrap=True,\n",
       "                                                   ccp_alpha=0.0,\n",
       "                                                   criterion='mse',\n",
       "                                                   max_depth=None,\n",
       "                                                   max_features='auto',\n",
       "                                                   max_leaf_nodes=None,\n",
       "                                                   max_samples=None,\n",
       "                                                   min_impurity_decrease=0.0,\n",
       "                                                   min_impurity_split=None,\n",
       "                                                   min_samples_leaf=1,\n",
       "                                                   min_samples_split=2,\n",
       "                                                   min_weight_fraction_leaf=0.0,\n",
       "                                                   n_estimators=100,\n",
       "                                                   n_jobs=None, oob_score=Fals...\n",
       "                   param_distributions={'bootstrap': [True, False],\n",
       "                                        'criterion': ['mse', 'mae'],\n",
       "                                        'max_depth': [5, 10, 15, 20, 25, 30, 35,\n",
       "                                                      40, 45, 50, 55, None],\n",
       "                                        'max_features': ['auto', 'sqrt',\n",
       "                                                         'log2'],\n",
       "                                        'min_impurity_decrease': [0.0, 0.05,\n",
       "                                                                  0.1],\n",
       "                                        'min_samples_split': [2, 3, 4, 5, 6, 7,\n",
       "                                                              8, 9, 10],\n",
       "                                        'n_estimators': [200, 400, 600, 800,\n",
       "                                                         1000, 1500, 2000]},\n",
       "                   pre_dispatch='2*n_jobs', random_state=42, refit=True,\n",
       "                   return_train_score=False, scoring=None, verbose=2)"
      ]
     },
     "execution_count": 118,
     "metadata": {},
     "output_type": "execute_result"
    }
   ],
   "source": [
    "# Create the model to be tuned\n",
    "rf_base = RandomForestRegressor()\n",
    "\n",
    "# Create the random search Random Forest\n",
    "rf_random = RandomizedSearchCV(estimator=rf_base, param_distributions=rf_grid,\n",
    "                              n_iter=200, cv=3, verbose=2, random_state=42, n_jobs=-1)\n",
    "\n",
    "# Fit the random search model\n",
    "rf_random.fit(X_train_temp, y_train_temp)"
   ]
  },
  {
   "cell_type": "code",
   "execution_count": 119,
   "metadata": {},
   "outputs": [
    {
     "data": {
      "text/plain": [
       "{'n_estimators': 200,\n",
       " 'min_samples_split': 9,\n",
       " 'min_impurity_decrease': 0.05,\n",
       " 'max_features': 'sqrt',\n",
       " 'max_depth': 15,\n",
       " 'criterion': 'mae',\n",
       " 'bootstrap': False}"
      ]
     },
     "execution_count": 119,
     "metadata": {},
     "output_type": "execute_result"
    }
   ],
   "source": [
    "# View the best parameters from the random search\n",
    "rf_random.best_params_"
   ]
  },
  {
   "cell_type": "code",
   "execution_count": 120,
   "metadata": {},
   "outputs": [
    {
     "data": {
      "text/plain": [
       "0.22327454258582827"
      ]
     },
     "execution_count": 120,
     "metadata": {},
     "output_type": "execute_result"
    }
   ],
   "source": [
    "rf_random.best_score_"
   ]
  },
  {
   "cell_type": "markdown",
   "metadata": {},
   "source": [
    "### Hyperparameter Optimisation for Extreme Gradient Boosting\n",
    "\n",
    "For the extreme gradient boosting model I will try and change th efollowing parameters: n_estimators, max_depth, min_child_weight, tree_method, eta, objective, n_thread, seed, gamm"
   ]
  },
  {
   "cell_type": "code",
   "execution_count": 125,
   "metadata": {},
   "outputs": [],
   "source": [
    "# Number of trees to be used\n",
    "xgb_n_estimators = [int(x) for x in np.linspace(200, 2000, 10)]\n",
    "\n",
    "# Maximum number of levels in a tree\n",
    "xgb_max_depth = [int(x) for x in np.linspace(2, 20 ,10)]\n",
    "\n",
    "# Minimum number of instances needed in each node\n",
    "xgb_min_child_weight = [int(x) for x in np.linspace(1, 10, 10)]\n",
    "\n",
    "# Tree construction algorithm used in XGBoost\n",
    "xgb_tree_method = ['auto', 'exact', 'approx', 'hist', 'gpu_hist']\n",
    "\n",
    "# Learning rate\n",
    "xgb_eta = [x for x in np.linspace(0.1, 0.6, 6)]\n",
    "\n",
    "# Minimum loss reduction required to make further partition\n",
    "xgb_gamma = [x for x in np.linspace(0, 0.5, 6)]\n",
    "\n",
    "# Learning objective used\n",
    "xgb_objective = ['reg:squarederror', 'reg:squaredlogerror']"
   ]
  },
  {
   "cell_type": "code",
   "execution_count": 126,
   "metadata": {},
   "outputs": [
    {
     "data": {
      "text/plain": [
       "{'n_estimators': [200, 400, 600, 800, 1000, 1200, 1400, 1600, 1800, 2000],\n",
       " 'max_depth': [2, 4, 6, 8, 10, 12, 14, 16, 18, 20],\n",
       " 'min_child_weight': [1, 2, 3, 4, 5, 6, 7, 8, 9, 10],\n",
       " 'tree_method': ['auto', 'exact', 'approx', 'hist', 'gpu_hist'],\n",
       " 'eta': [0.1, 0.2, 0.30000000000000004, 0.4, 0.5, 0.6],\n",
       " 'gamma': [0.0, 0.1, 0.2, 0.30000000000000004, 0.4, 0.5],\n",
       " 'objective': ['reg:squarederror', 'reg:squaredlogerror']}"
      ]
     },
     "execution_count": 126,
     "metadata": {},
     "output_type": "execute_result"
    }
   ],
   "source": [
    "# Create the grid\n",
    "xgb_grid = {'n_estimators': xgb_n_estimators,\n",
    "           'max_depth': xgb_max_depth,\n",
    "           'min_child_weight': xgb_min_child_weight,\n",
    "           'tree_method': xgb_tree_method,\n",
    "           'eta': xgb_eta,\n",
    "           'gamma': xgb_gamma,\n",
    "           'objective': xgb_objective}\n",
    "xgb_grid"
   ]
  },
  {
   "cell_type": "code",
   "execution_count": 127,
   "metadata": {},
   "outputs": [
    {
     "name": "stdout",
     "output_type": "stream",
     "text": [
      "Fitting 3 folds for each of 200 candidates, totalling 600 fits\n"
     ]
    },
    {
     "name": "stderr",
     "output_type": "stream",
     "text": [
      "[Parallel(n_jobs=-1)]: Using backend LokyBackend with 4 concurrent workers.\n",
      "[Parallel(n_jobs=-1)]: Done  33 tasks      | elapsed:    4.9s\n",
      "[Parallel(n_jobs=-1)]: Done 240 tasks      | elapsed:   15.7s\n",
      "[Parallel(n_jobs=-1)]: Done 593 out of 600 | elapsed:   33.6s remaining:    0.4s\n",
      "[Parallel(n_jobs=-1)]: Done 600 out of 600 | elapsed:   34.0s finished\n"
     ]
    },
    {
     "data": {
      "text/plain": [
       "RandomizedSearchCV(cv=3, error_score=nan,\n",
       "                   estimator=XGBRegressor(base_score=None, booster=None,\n",
       "                                          colsample_bylevel=None,\n",
       "                                          colsample_bynode=None,\n",
       "                                          colsample_bytree=None, gamma=None,\n",
       "                                          gpu_id=None, importance_type='gain',\n",
       "                                          interaction_constraints=None,\n",
       "                                          learning_rate=None,\n",
       "                                          max_delta_step=None, max_depth=None,\n",
       "                                          min_child_weight=None, missing=nan,\n",
       "                                          monotone_constraints=None,\n",
       "                                          n_...\n",
       "                                        'max_depth': [2, 4, 6, 8, 10, 12, 14,\n",
       "                                                      16, 18, 20],\n",
       "                                        'min_child_weight': [1, 2, 3, 4, 5, 6,\n",
       "                                                             7, 8, 9, 10],\n",
       "                                        'n_estimators': [200, 400, 600, 800,\n",
       "                                                         1000, 1200, 1400, 1600,\n",
       "                                                         1800, 2000],\n",
       "                                        'objective': ['reg:squarederror',\n",
       "                                                      'reg:squaredlogerror'],\n",
       "                                        'tree_method': ['auto', 'exact',\n",
       "                                                        'approx', 'hist',\n",
       "                                                        'gpu_hist']},\n",
       "                   pre_dispatch='2*n_jobs', random_state=42, refit=True,\n",
       "                   return_train_score=False, scoring=None, verbose=2)"
      ]
     },
     "execution_count": 127,
     "metadata": {},
     "output_type": "execute_result"
    }
   ],
   "source": [
    "# Create the model to be tuned\n",
    "xgb_base = XGBRegressor()\n",
    "\n",
    "# Create the random search Random Forest\n",
    "xgb_random = RandomizedSearchCV(estimator=xgb_base, param_distributions=xgb_grid,\n",
    "                               n_iter=200, cv=3, verbose=2,\n",
    "                               random_state=42, n_jobs=-1)\n",
    "\n",
    "# Fit the random search model\n",
    "xgb_random.fit(X_train_temp, y_train_temp)"
   ]
  },
  {
   "cell_type": "code",
   "execution_count": 128,
   "metadata": {},
   "outputs": [
    {
     "data": {
      "text/plain": [
       "{'tree_method': 'approx',\n",
       " 'objective': 'reg:squarederror',\n",
       " 'n_estimators': 1800,\n",
       " 'min_child_weight': 10,\n",
       " 'max_depth': 6,\n",
       " 'gamma': 0.2,\n",
       " 'eta': 0.4}"
      ]
     },
     "execution_count": 128,
     "metadata": {},
     "output_type": "execute_result"
    }
   ],
   "source": [
    "# Get the optimal parameters\n",
    "xgb_random.best_params_"
   ]
  },
  {
   "cell_type": "markdown",
   "metadata": {},
   "source": [
    "### Finally using the test data"
   ]
  },
  {
   "cell_type": "code",
   "execution_count": 129,
   "metadata": {},
   "outputs": [],
   "source": [
    "# Create the final Multiple Linear Regression\n",
    "mlr_final = LinearRegression()\n",
    "\n",
    "# Create the final Random Forest\n",
    "rf_final = RandomForestRegressor('n_estimators': 200,\n",
    "                                 'min_samples_split': 9,\n",
    "                                 'min_impurity_decrease': 0.05,\n",
    "                                 'max_features': 'sqrt',\n",
    "                                 'max_depth': 15,\n",
    "                                 'criterion': 'mae',\n",
    "                                 'bootstrap': False,\n",
    "                                 random_state = 42)"
   ]
  },
  {
   "cell_type": "code",
   "execution_count": 132,
   "metadata": {},
   "outputs": [],
   "source": [
    "# Create the final Extreme Gradient Boost\n",
    "xgb_final = XGBRegressor(xgb_random.best_params_)"
   ]
  },
  {
   "cell_type": "code",
   "execution_count": 133,
   "metadata": {},
   "outputs": [
    {
     "ename": "ValueError",
     "evalue": "n_estimators must be an integer, got <class 'dict'>.",
     "output_type": "error",
     "traceback": [
      "\u001b[0;31m---------------------------------------------------------------------------\u001b[0m",
      "\u001b[0;31mValueError\u001b[0m                                Traceback (most recent call last)",
      "\u001b[0;32m<ipython-input-133-38fb6c96ba8c>\u001b[0m in \u001b[0;36m<module>\u001b[0;34m\u001b[0m\n\u001b[1;32m      1\u001b[0m \u001b[0;31m# Train the models using 80% of the original data\u001b[0m\u001b[0;34m\u001b[0m\u001b[0;34m\u001b[0m\u001b[0;34m\u001b[0m\u001b[0m\n\u001b[1;32m      2\u001b[0m \u001b[0mmlr_final\u001b[0m\u001b[0;34m.\u001b[0m\u001b[0mfit\u001b[0m\u001b[0;34m(\u001b[0m\u001b[0mX_train_temp\u001b[0m\u001b[0;34m,\u001b[0m \u001b[0my_train_temp\u001b[0m\u001b[0;34m)\u001b[0m\u001b[0;34m\u001b[0m\u001b[0;34m\u001b[0m\u001b[0m\n\u001b[0;32m----> 3\u001b[0;31m \u001b[0mrf_final\u001b[0m\u001b[0;34m.\u001b[0m\u001b[0mfit\u001b[0m\u001b[0;34m(\u001b[0m\u001b[0mX_train_temp\u001b[0m\u001b[0;34m,\u001b[0m \u001b[0my_train_temp\u001b[0m\u001b[0;34m)\u001b[0m\u001b[0;34m\u001b[0m\u001b[0;34m\u001b[0m\u001b[0m\n\u001b[0m",
      "\u001b[0;32m~/anaconda3/lib/python3.7/site-packages/sklearn/ensemble/_forest.py\u001b[0m in \u001b[0;36mfit\u001b[0;34m(self, X, y, sample_weight)\u001b[0m\n\u001b[1;32m    337\u001b[0m \u001b[0;34m\u001b[0m\u001b[0m\n\u001b[1;32m    338\u001b[0m         \u001b[0;31m# Check parameters\u001b[0m\u001b[0;34m\u001b[0m\u001b[0;34m\u001b[0m\u001b[0;34m\u001b[0m\u001b[0m\n\u001b[0;32m--> 339\u001b[0;31m         \u001b[0mself\u001b[0m\u001b[0;34m.\u001b[0m\u001b[0m_validate_estimator\u001b[0m\u001b[0;34m(\u001b[0m\u001b[0;34m)\u001b[0m\u001b[0;34m\u001b[0m\u001b[0;34m\u001b[0m\u001b[0m\n\u001b[0m\u001b[1;32m    340\u001b[0m \u001b[0;34m\u001b[0m\u001b[0m\n\u001b[1;32m    341\u001b[0m         \u001b[0;32mif\u001b[0m \u001b[0;32mnot\u001b[0m \u001b[0mself\u001b[0m\u001b[0;34m.\u001b[0m\u001b[0mbootstrap\u001b[0m \u001b[0;32mand\u001b[0m \u001b[0mself\u001b[0m\u001b[0;34m.\u001b[0m\u001b[0moob_score\u001b[0m\u001b[0;34m:\u001b[0m\u001b[0;34m\u001b[0m\u001b[0;34m\u001b[0m\u001b[0m\n",
      "\u001b[0;32m~/anaconda3/lib/python3.7/site-packages/sklearn/ensemble/_base.py\u001b[0m in \u001b[0;36m_validate_estimator\u001b[0;34m(self, default)\u001b[0m\n\u001b[1;32m    125\u001b[0m         \u001b[0;32mif\u001b[0m \u001b[0;32mnot\u001b[0m \u001b[0misinstance\u001b[0m\u001b[0;34m(\u001b[0m\u001b[0mself\u001b[0m\u001b[0;34m.\u001b[0m\u001b[0mn_estimators\u001b[0m\u001b[0;34m,\u001b[0m \u001b[0mnumbers\u001b[0m\u001b[0;34m.\u001b[0m\u001b[0mIntegral\u001b[0m\u001b[0;34m)\u001b[0m\u001b[0;34m:\u001b[0m\u001b[0;34m\u001b[0m\u001b[0;34m\u001b[0m\u001b[0m\n\u001b[1;32m    126\u001b[0m             raise ValueError(\"n_estimators must be an integer, \"\n\u001b[0;32m--> 127\u001b[0;31m                              \"got {0}.\".format(type(self.n_estimators)))\n\u001b[0m\u001b[1;32m    128\u001b[0m \u001b[0;34m\u001b[0m\u001b[0m\n\u001b[1;32m    129\u001b[0m         \u001b[0;32mif\u001b[0m \u001b[0mself\u001b[0m\u001b[0;34m.\u001b[0m\u001b[0mn_estimators\u001b[0m \u001b[0;34m<=\u001b[0m \u001b[0;36m0\u001b[0m\u001b[0;34m:\u001b[0m\u001b[0;34m\u001b[0m\u001b[0;34m\u001b[0m\u001b[0m\n",
      "\u001b[0;31mValueError\u001b[0m: n_estimators must be an integer, got <class 'dict'>."
     ]
    }
   ],
   "source": [
    "# Train the models using 80% of the original data\n",
    "mlr_final.fit(X_train_temp, y_train_temp)\n",
    "rf_final.fit(X_train_temp, y_train_temp)"
   ]
  },
  {
   "cell_type": "code",
   "execution_count": null,
   "metadata": {},
   "outputs": [],
   "source": []
  }
 ],
 "metadata": {
  "kernelspec": {
   "display_name": "Python 3",
   "language": "python",
   "name": "python3"
  },
  "language_info": {
   "codemirror_mode": {
    "name": "ipython",
    "version": 3
   },
   "file_extension": ".py",
   "mimetype": "text/x-python",
   "name": "python",
   "nbconvert_exporter": "python",
   "pygments_lexer": "ipython3",
   "version": "3.7.6"
  }
 },
 "nbformat": 4,
 "nbformat_minor": 4
}
